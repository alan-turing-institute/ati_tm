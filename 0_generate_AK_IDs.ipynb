{
 "cells": [
  {
   "cell_type": "markdown",
   "metadata": {},
   "source": [
    "# Retrieve IDs from AK database"
   ]
  },
  {
   "cell_type": "markdown",
   "metadata": {},
   "source": [
    "<b>Academic Knowledge API overview:</b>  \n",
    "Microsoft's Academic Knowledge (AK) API provides a free database of academic publications. It enables searches for specific articles given a set of parameters (e.g., author's name, article title, year of publication, field of study etc.).  \n",
    "\n",
    "For more information, see for example:  \n",
    "Overview of parameters: https://westus.dev.cognitive.microsoft.com/docs/services/56332331778daf02acc0a50b/operations/565d753be597ed16ac3ffc03  \n",
    "Overview of entity attributes: https://docs.microsoft.com/en-us/azure/cognitive-services/academic-knowledge/entityattributes  \n",
    "Overview of query syntax: https://docs.microsoft.com/en-us/azure/cognitive-services/academic-knowledge/queryexpressionsyntax\n",
    "\n",
    "We needed a unique identifier for each fellow to use as a means of searching for their publications records.\n",
    "\n",
    "<b> Automated method:</b>  \n",
    "We used fellow's name and current university affiliation (taken from the turing.ac.uk website and internal sources, see turing_fellows_complete.csv) to find ID, This only worked for a subset of researchers. \n",
    "    \n",
    "<b>Manual method:</b>  \n",
    "We visited each researchers' personal web page (or google searched for it in instances where it was not provided) and manually coppied 2-3 publication titles for each Turing fellow (see example_article_titles.csv). These titles were used to retrieve an ID from the database.    \n",
    "\n",
    "<b>Notes:</b>  \n",
    "To use the AK database, an access key needs to be obtained. Here we load it from api_key.txt.  \n",
    "\n",
    "There are multiple reasons for the failure to find an ID: often there is a difference between a fellow's name on the Turing website (e.g., shortened versions of first name) and their name in the AK database which stores names as they appear on their publications (which can include middle name initials etc.); not all articles are stored in the AK database; in some instances the AK database wrongly records recent articles as published at fellow's previous institution so they do not have any articles recorded as published at current university; database is prone to internal errors - in some instances we had to repeat a call to the database to retrieve a match.\n",
    "\n",
    "Some researchers are stored under multiple IDs.  \n",
    "\n",
    "The IDs retrieved using the automated method matched those we retrieved manually. Further, the automated method retrieved a few additional IDs which were checked and found to be correct.  "
   ]
  },
  {
   "cell_type": "markdown",
   "metadata": {},
   "source": [
    "# 0: Set up"
   ]
  },
  {
   "cell_type": "markdown",
   "metadata": {},
   "source": [
    "### Required Packages"
   ]
  },
  {
   "cell_type": "code",
   "execution_count": null,
   "metadata": {
    "collapsed": true
   },
   "outputs": [],
   "source": [
    "import http.client, urllib.parse, json, re, unicodedata, string\n",
    "import pandas as pd\n",
    "from difflib import SequenceMatcher\n",
    "from bs4 import BeautifulSoup\n",
    "from urllib.request import urlopen"
   ]
  },
  {
   "cell_type": "markdown",
   "metadata": {},
   "source": [
    "### Load data\n",
    "(i) key for AK API from text file  \n",
    "(ii) information about Turing Fellows"
   ]
  },
  {
   "cell_type": "code",
   "execution_count": null,
   "metadata": {},
   "outputs": [],
   "source": [
    "#extract access key to academic knowledge api\n",
    "with open('api_key.txt', 'r') as myfile:\n",
    "    key=myfile.read().replace('\\n', '')   "
   ]
  },
  {
   "cell_type": "code",
   "execution_count": null,
   "metadata": {
    "collapsed": true
   },
   "outputs": [],
   "source": [
    "fellows = pd.read_csv('data_files/turing_fellows.csv')\n",
    "fellows['full_name'] = fellows['Name'].apply(lambda x: \" \".join(x.split(\" \")[1:]).lower().replace(\"-\", \" \"))\n",
    "\n",
    "#dictionary for storing IDs\n",
    "turing_fellows = {}\n",
    "for index, row in fellows.iterrows():\n",
    "    name = row['full_name']\n",
    "    turing_fellows[name] = []"
   ]
  },
  {
   "cell_type": "markdown",
   "metadata": {},
   "source": [
    "### Helper functions"
   ]
  },
  {
   "cell_type": "code",
   "execution_count": null,
   "metadata": {
    "collapsed": true
   },
   "outputs": [],
   "source": [
    "def save_to_file(my_list, file_name):\n",
    "    \"\"\"\n",
    "    function for saving data to file\n",
    "    input is list which is saved as one row in file called file_name\n",
    "    \"\"\"\n",
    "    f = open('data_files/'  + file_name, 'a') \n",
    "    for i in my_list:\n",
    "        f.write(str(i) + ',')\n",
    "    f.write('\\n') # write a line ending\n",
    "    f.close() #close and \"save\" the output file\n",
    "    \n",
    "def clean_title(title):\n",
    "    title = title.replace(\"æ\", \"\")\n",
    "    title = title.replace(\"Ê\", \"\")\n",
    "    return title\n",
    "    \n",
    "#function for removing accents from strings\n",
    "def strip_accents(s):\n",
    "   return ''.join(c for c in unicodedata.normalize('NFD', s) if unicodedata.category(c) != 'Mn')\n",
    "\n",
    "def score_similarity(string_1, string_2):\n",
    "    \"\"\"\n",
    "    return ratio similarity score (ignoring cases)\n",
    "    \"\"\"\n",
    "    return SequenceMatcher(None, string_1.lower(), string_2.lower()).ratio()"
   ]
  },
  {
   "cell_type": "markdown",
   "metadata": {},
   "source": [
    "### Functions for making a call to AK API to extract author information (including ID)"
   ]
  },
  {
   "cell_type": "code",
   "execution_count": null,
   "metadata": {
    "collapsed": true
   },
   "outputs": [],
   "source": [
    "def format_query(info, method):\n",
    "    if method == 'name':\n",
    "        #remove any accents in name\n",
    "        name = strip_accents(info[0]).replace(\"-\",\"\")\n",
    "        if len(info) == 2:\n",
    "            expression = \"Composite(AND(AA.AuN=='\" + name.lower() + \"', AA.AfN='\" + info[1].lower() + \"'))\"\n",
    "        else:\n",
    "            expression = \"Composite(AA.AuN=='\" + info[0].lower() + \"')\"\n",
    "    elif method == 'title':\n",
    "        title = re.sub(r'\\[.*?\\]|\\(.*?\\)|\\W+', ' ',  info[0].lower())\n",
    "        title = title.strip()\n",
    "        expression = \"Ti='\" + str(title) + \"'\" \n",
    "        \n",
    "    return expression\n",
    "\n",
    "def get_parameters(expression):\n",
    "    parameters = urllib.parse.urlencode({\n",
    "        #the below query is for a specific author while that author is at a specific institution for publications in 2013 and later\n",
    "        'expr': expression,\n",
    "        'model': 'latest',\n",
    "        'count': \"1\", #number of results to return, this is set above what expect to find just to make sure that get all articles\n",
    "        'offset': '0', #index of the first result to retun\n",
    "        'orderby': '', #name of attribute used for sorting  \n",
    "        'attributes': 'AA.AuN,AA.AuId,AA.AfN',\n",
    "    })\n",
    "    \n",
    "    return parameters\n",
    "\n",
    "def get_id(info, key, method):\n",
    "    \"\"\"\n",
    "    info = [researcher name, researcher affiliation] OR [paper title] \n",
    "    key = access key for AK API\n",
    "    method : 'name' for name (and affiliation), 'title' for title\n",
    "    \n",
    "    extract list of authors\n",
    "    \"\"\"\n",
    "    headers = {'Ocp-Apim-Subscription-Key': key,}\n",
    "    expression = format_query(info, method)\n",
    "    params = get_parameters(expression)\n",
    "    \n",
    "    try:\n",
    "        conn = http.client.HTTPSConnection('westus.api.cognitive.microsoft.com')\n",
    "        conn.request(\"GET\", \"/academic/v1.0/evaluate?%s\" % params, \"{body}\", headers)\n",
    "        response = conn.getresponse()\n",
    "\n",
    "        #save response from query, this returns bytes object\n",
    "        data = response.read()     \n",
    "        data_dict=json.loads(data)\n",
    "        authors = []\n",
    "        \n",
    "        if 'entities' in data_dict.keys():\n",
    "            if len(data_dict['entities']) != 0:\n",
    "                entities = data_dict['entities'][0]\n",
    "                if \"AA\" in entities.keys():\n",
    "                    authors = entities[\"AA\"]\n",
    "\n",
    "        return authors\n",
    "    \n",
    "        conn.close()\n",
    "        \n",
    "    except Exception as e:\n",
    "        print(e)"
   ]
  },
  {
   "cell_type": "markdown",
   "metadata": {},
   "source": [
    "## 1: Get ID using name and affiliation"
   ]
  },
  {
   "cell_type": "code",
   "execution_count": null,
   "metadata": {
    "collapsed": true
   },
   "outputs": [],
   "source": [
    "for name in turing_fellows.keys(): \n",
    "    \n",
    "    uni = fellows.loc[fellows['full_name']==name]['University'].values[0]\n",
    "    authors = get_id([name, uni], key, 'name')\n",
    "    \n",
    "    #loop through retrieved author list\n",
    "    for i in authors:\n",
    "        author = i['AuN']\n",
    "\n",
    "        #if have match - save ID\n",
    "        if author == name:\n",
    "            turing_fellows[author].append(i['AuId'])        "
   ]
  },
  {
   "cell_type": "markdown",
   "metadata": {},
   "source": [
    "## 2: Use manually retrieved publication titles to get ID (might require multiple runs)"
   ]
  },
  {
   "cell_type": "code",
   "execution_count": null,
   "metadata": {
    "collapsed": true
   },
   "outputs": [],
   "source": [
    "all_titles = pd.read_csv('data_files/example_article_titles.csv', encoding = \"ISO-8859-1\")\n",
    "all_titles = all_titles.dropna('index', how='all')\n",
    "final_IDs = turing_fellows"
   ]
  },
  {
   "cell_type": "code",
   "execution_count": null,
   "metadata": {
    "collapsed": true,
    "scrolled": true
   },
   "outputs": [],
   "source": [
    "for index, row in all_titles.iterrows():\n",
    "\n",
    "    researcher = row['Name'].lower()\n",
    "    titles = [row['title_1'], row['title_2'], row['title_3']]\n",
    "\n",
    "    if final_IDs[researcher] == []:\n",
    "   \n",
    "        for title in titles:\n",
    "            \n",
    "            if type(title) != float: #check there is a third title\n",
    "                title = clean_title(title)\n",
    "                authors = get_id([title], key, 'title')\n",
    "\n",
    "                for author in authors:\n",
    "                    \n",
    "                    if author['AuN'] == researcher: #if have exact name match - add\n",
    "                        final_IDs[author['AuN']].append(author['AuId'])\n",
    "\n",
    "                    #if have a surname match - check degree of match\n",
    "                    #print results to monitor\n",
    "                    elif author['AuN'].split(\" \")[-1].lower() == researcher.split(\" \")[-1].lower() and score_similarity(author['AuN'], researcher) >= .5: \n",
    "                        final_IDs[researcher.lower()].append(author['AuId'])\n",
    "                        print('accepted:', researcher, \" = \", author['AuN'], \" : \", author['AuId'])"
   ]
  },
  {
   "cell_type": "markdown",
   "metadata": {},
   "source": [
    "## 3: Remove repeats and save to csv"
   ]
  },
  {
   "cell_type": "code",
   "execution_count": null,
   "metadata": {
    "collapsed": true
   },
   "outputs": [],
   "source": [
    "for i in final_IDs.keys():\n",
    "    final_IDs[i] = set(final_IDs[i])"
   ]
  },
  {
   "cell_type": "code",
   "execution_count": null,
   "metadata": {
    "collapsed": true
   },
   "outputs": [],
   "source": [
    "save_to_file(['name', 'uni', 'id_1', 'id_2', 'id_3'], 'turing_AK_IDs.csv')\n",
    "\n",
    "for index, row in fellows_all.iterrows():\n",
    "    name = row['Name'].lower()\n",
    "    uni = row['Affiliation']\n",
    "    \n",
    "    ids = final_IDs[name]\n",
    "    \n",
    "    save_to_file([name, uni] + ids, 'turing_AK_IDs.csv')"
   ]
  }
 ],
 "metadata": {
  "kernelspec": {
   "display_name": "Python 3",
   "language": "python",
   "name": "python3"
  },
  "language_info": {
   "codemirror_mode": {
    "name": "ipython",
    "version": 3
   },
   "file_extension": ".py",
   "mimetype": "text/x-python",
   "name": "python",
   "nbconvert_exporter": "python",
   "pygments_lexer": "ipython3",
   "version": "3.6.3"
  }
 },
 "nbformat": 4,
 "nbformat_minor": 2
}
